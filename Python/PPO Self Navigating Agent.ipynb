{
 "cells": [
  {
   "cell_type": "code",
   "execution_count": null,
   "metadata": {},
   "outputs": [],
   "source": [
    "# Import libraries\n",
    "import math\n",
    "import random\n",
    "import numpy as np\n",
    "import matplotlib as mpl\n",
    "import matplotlib.pyplot as plt\n",
    "import torch\n",
    "import torch.nn as nn\n",
    "import torch.optim as optim\n",
    "import torch.nn.functional as F\n",
    "import time\n",
    "\n",
    "from torch.distributions import Normal\n",
    "from mlagents_envs.environment import UnityEnvironment\n",
    "from IPython.display import clear_output"
   ]
  },
  {
   "cell_type": "code",
   "execution_count": null,
   "metadata": {},
   "outputs": [],
   "source": [
    "# Check for CUDA\n",
    "if (torch.cuda.is_available()):\n",
    "    device = torch.device(\"cuda\")\n",
    "else:\n",
    "    device = torch.device(\"cpu\")\n",
    "print(device)"
   ]
  },
  {
   "cell_type": "markdown",
   "metadata": {},
   "source": [
    "# Neural Network Architecture"
   ]
  },
  {
   "cell_type": "code",
   "execution_count": null,
   "metadata": {},
   "outputs": [],
   "source": [
    "# Function to initialize weights of NN from normal distribution\n",
    "def init_weights(m):\n",
    "    if isinstance(m, nn.Linear):\n",
    "        nn.init.normal_(m.weight, mean=0.0, std=0.1)\n",
    "        nn.init.constant_(m.bias, 0.5)"
   ]
  },
  {
   "cell_type": "code",
   "execution_count": null,
   "metadata": {},
   "outputs": [],
   "source": [
    "# Actor-Critic Neural Network\n",
    "class ActorCritic(nn.Module):\n",
    "    def __init__(self, inputs, outputs, hidden_size, std=0):\n",
    "        super(ActorCritic, self).__init__()\n",
    "        \n",
    "        self.critic = nn.Sequential(\n",
    "            nn.Linear(inputs, hidden_size),\n",
    "            nn.LayerNorm(hidden_size),\n",
    "            nn.Tanh(),\n",
    "            nn.Linear(hidden_size, int(hidden_size/2)),\n",
    "            nn.Tanh(),\n",
    "            nn.Linear(int(hidden_size/2), int(hidden_size/2)),\n",
    "            nn.LayerNorm(int(hidden_size/2)),\n",
    "            nn.Tanh(),\n",
    "            nn.Linear(int(hidden_size/2), 1)\n",
    "        )\n",
    "        \n",
    "        self.actor = nn.Sequential(\n",
    "            nn.Linear(inputs, hidden_size),\n",
    "            nn.LayerNorm(hidden_size),\n",
    "            nn.Tanh(),\n",
    "            nn.Linear(hidden_size, int(hidden_size/2)),\n",
    "            nn.Tanh(),\n",
    "            nn.Linear(int(hidden_size/2), int(hidden_size/2)),\n",
    "            nn.LayerNorm(int(hidden_size/2)),\n",
    "            nn.Tanh(),\n",
    "            nn.Linear(int(hidden_size/2), outputs),\n",
    "            nn.Tanh()\n",
    "        )\n",
    "        self.log_std = nn.Parameter(torch.ones(outputs) * std)\n",
    "        self.apply(init_weights)\n",
    "        \n",
    "    def forward(self, x):\n",
    "        value = self.critic(x)\n",
    "        mu = self.actor(x)\n",
    "        std   = self.log_std.exp().expand_as(mu)\n",
    "        dist = Normal(mu, std)\n",
    "        return dist, value"
   ]
  },
  {
   "cell_type": "markdown",
   "metadata": {},
   "source": [
    "# Plot"
   ]
  },
  {
   "cell_type": "code",
   "execution_count": null,
   "metadata": {},
   "outputs": [],
   "source": [
    "# Function to plot rewards\n",
    "def plot(frame_idx, rewards):\n",
    "    clear_output(True)\n",
    "    plt.figure(figsize=(40, 8))\n",
    "    plt.subplot(131)\n",
    "    plt.title('Frame %s. reward: %s' % (frame_idx, rewards[-1]))\n",
    "\n",
    "    plt.plot(rewards)\n",
    "    plt.show()"
   ]
  },
  {
   "cell_type": "markdown",
   "metadata": {},
   "source": [
    "# Run NN"
   ]
  },
  {
   "cell_type": "code",
   "execution_count": null,
   "metadata": {},
   "outputs": [],
   "source": [
    "# Test of environment\n",
    "def test_env(max_frames=1000):\n",
    "    env.reset()\n",
    "    step_result = env.get_steps(behaviorName)\n",
    "    DecisionSteps = step_result[0]\n",
    "    TerminalSteps = step_result[1]\n",
    "    state = []\n",
    "\n",
    "    if (len(DecisionSteps) > 0):\n",
    "        state = DecisionSteps.obs[0]\n",
    "        reward = DecisionSteps.reward\n",
    "    \n",
    "    total_reward = 0\n",
    "    frame_count = 0\n",
    "    while(True):\n",
    "        frame_count += 1\n",
    "        state = torch.FloatTensor(state).to(device)\n",
    "        dist, _ = model(state)\n",
    "        action = dist.sample()\n",
    "        env.set_actions(behaviorName, np.array(action.cpu()))\n",
    "        env.step()\n",
    "        step_result = env.get_steps(behaviorName)\n",
    "        DecisionSteps = step_result[0]\n",
    "        TerminalSteps = step_result[1]\n",
    "        next_state = []\n",
    "        reward = []\n",
    "        if (frame_count < max_frames):\n",
    "            if (len(DecisionSteps) > 0):\n",
    "                next_state = DecisionSteps.obs[0]\n",
    "                reward = DecisionSteps.reward\n",
    "                state = next_state\n",
    "                total_reward += reward\n",
    "            if (len(TerminalSteps) > 0):\n",
    "                reward = TerminalSteps.reward\n",
    "                total_reward += reward\n",
    "                break\n",
    "        else:\n",
    "            break\n",
    "    return total_reward"
   ]
  },
  {
   "cell_type": "markdown",
   "metadata": {},
   "source": [
    "# Generalized Advantage Estimator"
   ]
  },
  {
   "cell_type": "code",
   "execution_count": null,
   "metadata": {},
   "outputs": [],
   "source": [
    "# Conmpute GAE\n",
    "def compute_gae(next_value, rewards, masks, vals,\n",
    "               gamma=0.99, tau=0.95):\n",
    "    vals = vals + [next_value]\n",
    "    gae = 0\n",
    "    returns = []\n",
    "    for step in reversed(range(len(rewards))):\n",
    "        delta = rewards[step] + gamma * vals[step + 1] * masks[step] - vals[step]\n",
    "        gae = delta + gamma * tau * gae * masks[step]\n",
    "        returns.insert(0, gae + vals[step])\n",
    "    return returns"
   ]
  },
  {
   "cell_type": "markdown",
   "metadata": {},
   "source": [
    "# Proximal Policy Optimization"
   ]
  },
  {
   "cell_type": "code",
   "execution_count": null,
   "metadata": {},
   "outputs": [],
   "source": [
    "# Batch sampling\n",
    "def ppo_iter(mini_batch_size, states, actions, log_probs,\n",
    "            returns, advantage):\n",
    "    batch_size = states.size(0)\n",
    "    for _ in range(batch_size // mini_batch_size):\n",
    "        rand_ids = np.random.randint(0, batch_size, mini_batch_size)\n",
    "        yield states[rand_ids, :], actions[rand_ids, :], log_probs[rand_ids, :], returns[rand_ids, :], advantage[rand_ids, :]"
   ]
  },
  {
   "cell_type": "code",
   "execution_count": null,
   "metadata": {},
   "outputs": [],
   "source": [
    "# Update PPO weights\n",
    "def ppo_update(ppo_epochs, mini_batch_size, states, actions, \n",
    "               log_probs, returns, advantages, clip_param=0.2):\n",
    "    mean_loss = 0\n",
    "    for _ in range(ppo_epochs):\n",
    "        for state, action, old_log_probs, return_, advantage in ppo_iter(mini_batch_size, states, actions, log_probs, returns, advantages):\n",
    "            dist, value = model(state)\n",
    "            entropy = dist.entropy().mean()\n",
    "            new_log_probs = dist.log_prob(action)\n",
    "            \n",
    "            ratio = (new_log_probs - old_log_probs).exp()\n",
    "            surr1 = ratio * advantage\n",
    "            surr2 = torch.clamp(ratio, 1.0 - clip_param, 1.0 + clip_param) * advantage\n",
    "            \n",
    "            actor_loss = -torch.min(surr1, surr2).mean()\n",
    "            critic_loss = (return_ - value).pow(2).mean()\n",
    "            \n",
    "            loss = (0.5 * critic_loss + actor_loss - 0.001*entropy)\n",
    "            mean_loss += loss.mean()\n",
    "            \n",
    "            optimizer.zero_grad()\n",
    "            loss.mean().backward()\n",
    "            optimizer.step()\n",
    "            \n",
    "    return mean_loss"
   ]
  },
  {
   "cell_type": "markdown",
   "metadata": {},
   "source": [
    "# Start learning"
   ]
  },
  {
   "cell_type": "code",
   "execution_count": null,
   "metadata": {},
   "outputs": [],
   "source": [
    "# Connect to Unity\n",
    "n = True\n",
    "counter = 0\n",
    "while(n):\n",
    "    try:\n",
    "        print('Connecting...')\n",
    "        env = UnityEnvironment(file_name=None, base_port=5004)\n",
    "        env.reset()\n",
    "        behaviorNames = list(env.behavior_specs.keys())\n",
    "        behaviorName = behaviorNames[0]\n",
    "        behavior_spec = env.behavior_specs[behaviorName]\n",
    "        print('Connected...')\n",
    "        n = False\n",
    "    except:\n",
    "        counter += 1\n",
    "        time.sleep(1)\n",
    "        if (counter > 11):\n",
    "            print('Connection failed...')\n",
    "            n = False\n",
    "        pass"
   ]
  },
  {
   "cell_type": "code",
   "execution_count": null,
   "metadata": {},
   "outputs": [],
   "source": [
    "# Inputs and outputs of NN\n",
    "num_inputs = behavior_spec.observation_shapes[0][0]\n",
    "num_outputs = behavior_spec.action_shape\n",
    "print(\"Inputs: {}, Outputs: {}\".format(num_inputs, num_outputs))"
   ]
  },
  {
   "cell_type": "code",
   "execution_count": null,
   "metadata": {},
   "outputs": [],
   "source": [
    "# Hyper parameters of NN\n",
    "hidden_size = 256\n",
    "lr = 1e-4\n",
    "num_steps = 20\n",
    "mini_batch_size = 5\n",
    "ppo_epochs = 4\n",
    "threshold_reward = 185\n",
    "max_frames = 150000\n",
    "max_steps = 800\n",
    "frame_idx = 0"
   ]
  },
  {
   "cell_type": "code",
   "execution_count": null,
   "metadata": {},
   "outputs": [],
   "source": [
    "# Create NN\n",
    "model = ActorCritic(num_inputs, num_outputs, hidden_size).to(device)\n",
    "#model.load_state_dict(torch.load('PPO_Good.dat'))\n",
    "optimizer = optim.Adam(model.parameters(), lr = lr)"
   ]
  },
  {
   "cell_type": "code",
   "execution_count": null,
   "metadata": {},
   "outputs": [],
   "source": [
    "# Get states and actions\n",
    "env.reset()\n",
    "step_result = env.get_steps(behaviorName)\n",
    "DecisionSteps = step_result[0]\n",
    "state = DecisionSteps.obs[0]\n",
    "reward = DecisionSteps.reward\n",
    "dist, value = model(torch.FloatTensor(state).to(device))\n",
    "action = dist.sample()\n",
    "print(action)\n",
    "print(\"Reward: {}\".format(reward))\n",
    "for s in state[0]:\n",
    "    print(s, end=', ')"
   ]
  },
  {
   "cell_type": "code",
   "execution_count": null,
   "metadata": {
    "scrolled": false
   },
   "outputs": [],
   "source": [
    "# Start learning process\n",
    "env.reset()\n",
    "early_stop = False\n",
    "rr = []\n",
    "test_rewards = []\n",
    "mean_loss = []\n",
    "frame_idx = 0\n",
    "while frame_idx < max_frames and not early_stop:\n",
    "    log_probs = []\n",
    "    values = []\n",
    "    states = []\n",
    "    actions = []\n",
    "    rewards = []\n",
    "    masks = []\n",
    "    entropy = 0\n",
    "    \n",
    "    for _ in range(num_steps):\n",
    "        step_result = env.get_steps(behaviorName)\n",
    "        DecisionSteps = step_result[0]\n",
    "        TerminalSteps = step_result[1]\n",
    "        \n",
    "        state = []\n",
    "        if (len(DecisionSteps) > 0):\n",
    "            state = DecisionSteps.obs[0]\n",
    "        elif (len(TerminalSteps) > 0):\n",
    "            state = TerminalSteps.obs[0]\n",
    "        \n",
    "        state = torch.FloatTensor(state).to(device)\n",
    "        dist, value = model(state)\n",
    "        action = dist.sample()\n",
    "        if(int(torch.isnan(torch.min(action))) == 1): #we have Nan when sampling distribution\n",
    "            print(\"Error: distribution=\", dist, \"%.2f, %.2f\" % (float(action[0][0]), float(action[0][1])))\n",
    "            \n",
    "        env.set_actions(behaviorName, np.array(action.cpu()))\n",
    "        env.step()\n",
    "        \n",
    "        step_result = env.get_steps(behaviorName)\n",
    "        DecisionSteps = step_result[0]\n",
    "        TerminalSteps = step_result[1]\n",
    "        \n",
    "        next_state = []\n",
    "        reward = []\n",
    "        mask = 0\n",
    "        \n",
    "        if (len(DecisionSteps) > 0):\n",
    "            next_state = DecisionSteps.obs[0]\n",
    "            reward = DecisionSteps.reward\n",
    "            mask = [1.0]\n",
    "        if (len(TerminalSteps) > 0):\n",
    "            next_state = TerminalSteps.obs[0]\n",
    "            reward = TerminalSteps.reward\n",
    "            mask = [0.0]\n",
    "        \n",
    "        log_prob = dist.log_prob(action)\n",
    "        entropy += dist.entropy().mean()\n",
    "        \n",
    "        log_probs.append(log_prob)\n",
    "        values.append(value)\n",
    "        rewards.append(torch.FloatTensor(reward).unsqueeze(1).to(device))\n",
    "        masks.append(torch.FloatTensor(mask).unsqueeze(1).to(device))\n",
    "        \n",
    "        states.append(state)\n",
    "        actions.append(action)\n",
    "        \n",
    "        state = next_state\n",
    "        frame_idx += 1\n",
    "            \n",
    "        if frame_idx % 800 == 0:\n",
    "            test_reward = np.mean([test_env(max_steps) for _ in range(10)])\n",
    "            test_rewards.append(test_reward)\n",
    "            plot(frame_idx, test_rewards)\n",
    "            rr.append(test_reward)\n",
    "            if test_reward > threshold_reward: early_stop = True\n",
    "            \n",
    "    next_state = torch.FloatTensor(next_state).to(device)\n",
    "    _, next_value = model(next_state)\n",
    "    returns = compute_gae(next_value, rewards, masks, values)\n",
    "    \n",
    "    returns = torch.cat(returns).detach()\n",
    "    rewards = torch.cat(rewards).detach()\n",
    "    log_probs = torch.cat(log_probs).detach()\n",
    "    values = torch.cat(values).detach()\n",
    "    states = torch.cat(states)\n",
    "    actions = torch.cat(actions)\n",
    "    advantage = returns - values\n",
    "    m_loss = ppo_update(ppo_epochs, mini_batch_size, states, actions, log_probs, returns, advantage)\n",
    "    mean_loss.append(m_loss.item())"
   ]
  },
  {
   "cell_type": "code",
   "execution_count": null,
   "metadata": {},
   "outputs": [],
   "source": [
    "plt.figure(figsize=(12, 6))\n",
    "plt.plot(mean_loss)\n",
    "plt.title('Loss')"
   ]
  },
  {
   "cell_type": "code",
   "execution_count": null,
   "metadata": {},
   "outputs": [],
   "source": [
    "env.reset()"
   ]
  },
  {
   "cell_type": "code",
   "execution_count": null,
   "metadata": {},
   "outputs": [],
   "source": [
    "env.close()"
   ]
  },
  {
   "cell_type": "markdown",
   "metadata": {},
   "source": [
    "# Test"
   ]
  },
  {
   "cell_type": "code",
   "execution_count": null,
   "metadata": {},
   "outputs": [],
   "source": [
    "# Connect to Unity\n",
    "n = True\n",
    "counter = 0\n",
    "while(n):\n",
    "    try:\n",
    "        print('Connecting...')\n",
    "        env = UnityEnvironment(file_name=None, base_port=5004)\n",
    "        env.reset()\n",
    "        behaviorNames = list(env.behavior_specs.keys())\n",
    "        behaviorName = behaviorNames[0]\n",
    "        behavior_spec = env.behavior_specs[behaviorName]\n",
    "        print('Connected...')\n",
    "        n = False\n",
    "    except:\n",
    "        counter += 1\n",
    "        time.sleep(1)\n",
    "        if (counter > 11):\n",
    "            print('Connection failed...')\n",
    "            n = False\n",
    "        pass"
   ]
  },
  {
   "cell_type": "code",
   "execution_count": null,
   "metadata": {},
   "outputs": [],
   "source": [
    "# Load states dictionary to model\n",
    "model = ActorCritic(num_inputs, num_outputs, hidden_size).to(device)\n",
    "model.load_state_dict(torch.load('PPO_Good.dat'))"
   ]
  },
  {
   "cell_type": "code",
   "execution_count": null,
   "metadata": {},
   "outputs": [],
   "source": [
    "# Test environment\n",
    "env.reset()\n",
    "time.sleep(1)\n",
    "test_env(5000)"
   ]
  },
  {
   "cell_type": "code",
   "execution_count": null,
   "metadata": {},
   "outputs": [],
   "source": [
    "env.close()"
   ]
  },
  {
   "cell_type": "code",
   "execution_count": null,
   "metadata": {},
   "outputs": [],
   "source": []
  }
 ],
 "metadata": {
  "kernelspec": {
   "display_name": "Python 3",
   "language": "python",
   "name": "python3"
  },
  "language_info": {
   "codemirror_mode": {
    "name": "ipython",
    "version": 3
   },
   "file_extension": ".py",
   "mimetype": "text/x-python",
   "name": "python",
   "nbconvert_exporter": "python",
   "pygments_lexer": "ipython3",
   "version": "3.6.6"
  }
 },
 "nbformat": 4,
 "nbformat_minor": 4
}
